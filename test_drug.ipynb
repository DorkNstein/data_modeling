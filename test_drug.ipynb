{
 "cells": [
  {
   "cell_type": "code",
   "execution_count": 3,
   "metadata": {},
   "outputs": [],
   "source": [
    "import numpy as np\n",
    "import pandas as pd\n",
    "import dateutil\n",
    "\n"
   ]
  },
  {
   "cell_type": "code",
   "execution_count": 25,
   "metadata": {},
   "outputs": [
    {
     "data": {
      "text/html": [
       "<div>\n",
       "<style scoped>\n",
       "    .dataframe tbody tr th:only-of-type {\n",
       "        vertical-align: middle;\n",
       "    }\n",
       "\n",
       "    .dataframe tbody tr th {\n",
       "        vertical-align: top;\n",
       "    }\n",
       "\n",
       "    .dataframe thead th {\n",
       "        text-align: right;\n",
       "    }\n",
       "</style>\n",
       "<table border=\"1\" class=\"dataframe\">\n",
       "  <thead>\n",
       "    <tr style=\"text-align: right;\">\n",
       "      <th></th>\n",
       "      <th>id</th>\n",
       "      <th>log_id</th>\n",
       "      <th>layout_id</th>\n",
       "      <th>staging_record_id</th>\n",
       "      <th>created_by</th>\n",
       "      <th>created_at</th>\n",
       "      <th>modified_by</th>\n",
       "      <th>modified_at</th>\n",
       "      <th>deleted</th>\n",
       "      <th>address</th>\n",
       "      <th>...</th>\n",
       "      <th>ndc11code</th>\n",
       "      <th>purchase_date</th>\n",
       "      <th>unit_price</th>\n",
       "      <th>drug_name</th>\n",
       "      <th>drug_class</th>\n",
       "      <th>state</th>\n",
       "      <th>drug_indication</th>\n",
       "      <th>person_code</th>\n",
       "      <th>pharmacy</th>\n",
       "      <th>zip</th>\n",
       "    </tr>\n",
       "  </thead>\n",
       "  <tbody>\n",
       "    <tr>\n",
       "      <th>0</th>\n",
       "      <td>410</td>\n",
       "      <td>46</td>\n",
       "      <td>87</td>\n",
       "      <td>595</td>\n",
       "      <td>SYSTEM</td>\n",
       "      <td>2018-10-08 21:30:06</td>\n",
       "      <td>SYSTEM</td>\n",
       "      <td>2018-10-08 21:30:06</td>\n",
       "      <td>False</td>\n",
       "      <td>5208 98TH ST</td>\n",
       "      <td>...</td>\n",
       "      <td>93001298</td>\n",
       "      <td>2016-01-05</td>\n",
       "      <td>0.1327</td>\n",
       "      <td>PANTOPRAZOLE TAB 40MG</td>\n",
       "      <td>ULCER DRUGS</td>\n",
       "      <td>TX</td>\n",
       "      <td>Ulcer</td>\n",
       "      <td>17546398</td>\n",
       "      <td>CVS PHARMACY</td>\n",
       "      <td>79424</td>\n",
       "    </tr>\n",
       "    <tr>\n",
       "      <th>1</th>\n",
       "      <td>2387</td>\n",
       "      <td>46</td>\n",
       "      <td>87</td>\n",
       "      <td>2612</td>\n",
       "      <td>SYSTEM</td>\n",
       "      <td>2018-10-08 21:30:27</td>\n",
       "      <td>SYSTEM</td>\n",
       "      <td>2018-10-08 21:30:27</td>\n",
       "      <td>False</td>\n",
       "      <td>251 N BROADWAY</td>\n",
       "      <td>...</td>\n",
       "      <td>54001729</td>\n",
       "      <td>2016-01-19</td>\n",
       "      <td>0.2450</td>\n",
       "      <td>PREDNISONE TAB 10MG</td>\n",
       "      <td>CORTICOSTEROIDS</td>\n",
       "      <td>NJ</td>\n",
       "      <td>Inflammation</td>\n",
       "      <td>17427509</td>\n",
       "      <td>SAVON PHARMACY</td>\n",
       "      <td>8070</td>\n",
       "    </tr>\n",
       "    <tr>\n",
       "      <th>2</th>\n",
       "      <td>2411</td>\n",
       "      <td>46</td>\n",
       "      <td>87</td>\n",
       "      <td>2587</td>\n",
       "      <td>SYSTEM</td>\n",
       "      <td>2018-10-08 21:30:28</td>\n",
       "      <td>SYSTEM</td>\n",
       "      <td>2018-10-08 21:30:28</td>\n",
       "      <td>False</td>\n",
       "      <td>2040 ROUTE 130</td>\n",
       "      <td>...</td>\n",
       "      <td>59762015502</td>\n",
       "      <td>2016-01-19</td>\n",
       "      <td>0.2734</td>\n",
       "      <td>ATORVASTATIN TAB 10MG</td>\n",
       "      <td>ANTIHYPERLIPIDEMICS</td>\n",
       "      <td>NJ</td>\n",
       "      <td>High Cholesterol</td>\n",
       "      <td>17112961</td>\n",
       "      <td>EXPRESS SCRIPTS</td>\n",
       "      <td>80169716</td>\n",
       "    </tr>\n",
       "    <tr>\n",
       "      <th>3</th>\n",
       "      <td>2436</td>\n",
       "      <td>46</td>\n",
       "      <td>87</td>\n",
       "      <td>2565</td>\n",
       "      <td>SYSTEM</td>\n",
       "      <td>2018-10-08 21:30:28</td>\n",
       "      <td>SYSTEM</td>\n",
       "      <td>2018-10-08 21:30:28</td>\n",
       "      <td>False</td>\n",
       "      <td>5230 DALLAS HWY</td>\n",
       "      <td>...</td>\n",
       "      <td>310080060</td>\n",
       "      <td>2016-01-18</td>\n",
       "      <td>304.5100</td>\n",
       "      <td>TUDORZA PRES AER 400/ACT</td>\n",
       "      <td>ANTIASTHMATIC AND BRONCHODILATOR AGENTS</td>\n",
       "      <td>GA</td>\n",
       "      <td>Asthma</td>\n",
       "      <td>17427513</td>\n",
       "      <td>WALGREENS #6325</td>\n",
       "      <td>30127</td>\n",
       "    </tr>\n",
       "    <tr>\n",
       "      <th>4</th>\n",
       "      <td>2461</td>\n",
       "      <td>46</td>\n",
       "      <td>87</td>\n",
       "      <td>2540</td>\n",
       "      <td>SYSTEM</td>\n",
       "      <td>2018-10-08 21:30:28</td>\n",
       "      <td>SYSTEM</td>\n",
       "      <td>2018-10-08 21:30:28</td>\n",
       "      <td>False</td>\n",
       "      <td>1704 W HILLSBOROUGH</td>\n",
       "      <td>...</td>\n",
       "      <td>59746028490</td>\n",
       "      <td>2016-01-18</td>\n",
       "      <td>0.1813</td>\n",
       "      <td>PANTOPRAZOLE TAB 40MG</td>\n",
       "      <td>ULCER DRUGS</td>\n",
       "      <td>FL</td>\n",
       "      <td>Ulcer</td>\n",
       "      <td>17106797</td>\n",
       "      <td>WALGREENS #6611</td>\n",
       "      <td>33603</td>\n",
       "    </tr>\n",
       "  </tbody>\n",
       "</table>\n",
       "<p>5 rows × 24 columns</p>\n",
       "</div>"
      ],
      "text/plain": [
       "     id  log_id  layout_id  staging_record_id created_by           created_at  \\\n",
       "0   410      46         87                595     SYSTEM  2018-10-08 21:30:06   \n",
       "1  2387      46         87               2612     SYSTEM  2018-10-08 21:30:27   \n",
       "2  2411      46         87               2587     SYSTEM  2018-10-08 21:30:28   \n",
       "3  2436      46         87               2565     SYSTEM  2018-10-08 21:30:28   \n",
       "4  2461      46         87               2540     SYSTEM  2018-10-08 21:30:28   \n",
       "\n",
       "  modified_by          modified_at  deleted              address    ...     \\\n",
       "0      SYSTEM  2018-10-08 21:30:06    False         5208 98TH ST    ...      \n",
       "1      SYSTEM  2018-10-08 21:30:27    False       251 N BROADWAY    ...      \n",
       "2      SYSTEM  2018-10-08 21:30:28    False       2040 ROUTE 130    ...      \n",
       "3      SYSTEM  2018-10-08 21:30:28    False      5230 DALLAS HWY    ...      \n",
       "4      SYSTEM  2018-10-08 21:30:28    False  1704 W HILLSBOROUGH    ...      \n",
       "\n",
       "     ndc11code purchase_date  unit_price                 drug_name  \\\n",
       "0     93001298    2016-01-05      0.1327     PANTOPRAZOLE TAB 40MG   \n",
       "1     54001729    2016-01-19      0.2450       PREDNISONE TAB 10MG   \n",
       "2  59762015502    2016-01-19      0.2734     ATORVASTATIN TAB 10MG   \n",
       "3    310080060    2016-01-18    304.5100  TUDORZA PRES AER 400/ACT   \n",
       "4  59746028490    2016-01-18      0.1813     PANTOPRAZOLE TAB 40MG   \n",
       "\n",
       "                                drug_class state   drug_indication  \\\n",
       "0                              ULCER DRUGS    TX             Ulcer   \n",
       "1                          CORTICOSTEROIDS    NJ      Inflammation   \n",
       "2                      ANTIHYPERLIPIDEMICS    NJ  High Cholesterol   \n",
       "3  ANTIASTHMATIC AND BRONCHODILATOR AGENTS    GA            Asthma   \n",
       "4                              ULCER DRUGS    FL             Ulcer   \n",
       "\n",
       "  person_code         pharmacy       zip  \n",
       "0    17546398     CVS PHARMACY     79424  \n",
       "1    17427509   SAVON PHARMACY      8070  \n",
       "2    17112961  EXPRESS SCRIPTS  80169716  \n",
       "3    17427513  WALGREENS #6325     30127  \n",
       "4    17106797  WALGREENS #6611     33603  \n",
       "\n",
       "[5 rows x 24 columns]"
      ]
     },
     "execution_count": 25,
     "metadata": {},
     "output_type": "execute_result"
    }
   ],
   "source": [
    "def dateparse(x):\n",
    "    return pd.datetime.strptime(x, '%Y %m %d %H %M')\n",
    "\n",
    "data = pd.read_csv('input/drug_purchases.csv', parse_dates=['purchase_date'])\n",
    "\n",
    "# Convert date from string to date times\n",
    "# data['purchase_date'] = data['purchase_date'].apply(dateutil.parser.parse, dayfirst=True)\n",
    "# display(data.dtypes);\n",
    "data.head()"
   ]
  },
  {
   "cell_type": "markdown",
   "metadata": {},
   "source": [
    "asfreq method is used to convert a time series to a specified frequency. Here it is monthly frequency.\n"
   ]
  },
  {
   "cell_type": "code",
   "execution_count": 15,
   "metadata": {},
   "outputs": [
    {
     "data": {
      "text/plain": [
       "184250"
      ]
     },
     "execution_count": 15,
     "metadata": {},
     "output_type": "execute_result"
    }
   ],
   "source": [
    "# How many rows the dataset\n",
    "data['id'].count()"
   ]
  },
  {
   "cell_type": "code",
   "execution_count": 16,
   "metadata": {},
   "outputs": [
    {
     "data": {
      "text/plain": [
       "32032.06"
      ]
     },
     "execution_count": 16,
     "metadata": {},
     "output_type": "execute_result"
    }
   ],
   "source": [
    "# What was the highest unit_price?\n",
    "data['unit_price'].max()"
   ]
  },
  {
   "cell_type": "code",
   "execution_count": 17,
   "metadata": {},
   "outputs": [],
   "source": [
    "# How many entries are there for each month?\n",
    "data['drug_indication'].value_counts();"
   ]
  },
  {
   "cell_type": "code",
   "execution_count": 18,
   "metadata": {},
   "outputs": [],
   "source": [
    "data['drug_class'].value_counts();"
   ]
  },
  {
   "cell_type": "code",
   "execution_count": 19,
   "metadata": {},
   "outputs": [],
   "source": [
    "data['person_code'].value_counts();"
   ]
  },
  {
   "cell_type": "code",
   "execution_count": 20,
   "metadata": {},
   "outputs": [],
   "source": [
    "data['pharmacy'].value_counts();"
   ]
  },
  {
   "cell_type": "code",
   "execution_count": 21,
   "metadata": {},
   "outputs": [],
   "source": [
    "data['state'].value_counts();"
   ]
  },
  {
   "cell_type": "code",
   "execution_count": 23,
   "metadata": {},
   "outputs": [],
   "source": [
    "data.groupby(['person_code', 'pharmacy'])['id'].count();\n"
   ]
  },
  {
   "cell_type": "code",
   "execution_count": 24,
   "metadata": {},
   "outputs": [],
   "source": [
    "data.groupby(['state', 'pharmacy'])['purchase_date'].count();"
   ]
  },
  {
   "cell_type": "code",
   "execution_count": null,
   "metadata": {},
   "outputs": [],
   "source": []
  }
 ],
 "metadata": {
  "kernelspec": {
   "display_name": "Python 3",
   "language": "python",
   "name": "python3"
  },
  "language_info": {
   "codemirror_mode": {
    "name": "ipython",
    "version": 3
   },
   "file_extension": ".py",
   "mimetype": "text/x-python",
   "name": "python",
   "nbconvert_exporter": "python",
   "pygments_lexer": "ipython3",
   "version": "3.7.1"
  }
 },
 "nbformat": 4,
 "nbformat_minor": 2
}
